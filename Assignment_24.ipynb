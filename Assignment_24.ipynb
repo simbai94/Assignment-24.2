{
 "cells": [
  {
   "cell_type": "code",
   "execution_count": 15,
   "metadata": {},
   "outputs": [
    {
     "name": "stdout",
     "output_type": "stream",
     "text": [
      "Write a sentence: goodmorning to you all\n",
      "Longest word(s): ['goodmorning']\n"
     ]
    }
   ],
   "source": [
    "s=input('Write a sentence: ')\n",
    "sentence=s.split(\" \")\n",
    "longestLength = 0\n",
    "longestWords = []\n",
    "for i in sentence:\n",
    "    if len(i) > longestLength:\n",
    "        longestWords = [i]\n",
    "        longestLength = len(i)\n",
    "    elif len(i) == longestLength:\n",
    "        longestWords.append(i)\n",
    "print(\"Longest word(s):\", longestWords)"
   ]
  },
  {
   "cell_type": "code",
   "execution_count": 16,
   "metadata": {},
   "outputs": [
    {
     "data": {
      "text/plain": [
       "'C:\\\\Users\\\\cleodine.chiome\\\\Desktop\\\\Assignment 23'"
      ]
     },
     "execution_count": 16,
     "metadata": {},
     "output_type": "execute_result"
    }
   ],
   "source": [
    "pwd()"
   ]
  }
 ],
 "metadata": {
  "kernelspec": {
   "display_name": "Python 3",
   "language": "python",
   "name": "python3"
  },
  "language_info": {
   "codemirror_mode": {
    "name": "ipython",
    "version": 3
   },
   "file_extension": ".py",
   "mimetype": "text/x-python",
   "name": "python",
   "nbconvert_exporter": "python",
   "pygments_lexer": "ipython3",
   "version": "3.7.0"
  }
 },
 "nbformat": 4,
 "nbformat_minor": 2
}
